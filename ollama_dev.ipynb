{
 "cells": [
  {
   "cell_type": "code",
   "execution_count": 10,
   "metadata": {},
   "outputs": [],
   "source": [
    "from langchain.llms import Ollama\n",
    "from langchain.callbacks.manager import CallbackManager\n",
    "from langchain.callbacks.streaming_stdout import StreamingStdOutCallbackHandler\n",
    "\n",
    "from langchain.prompts import PromptTemplate, ChatPromptTemplate, HumanMessagePromptTemplate\n",
    "from langchain.output_parsers import ResponseSchema, StructuredOutputParser\n"
   ]
  },
  {
   "cell_type": "code",
   "execution_count": 16,
   "metadata": {},
   "outputs": [],
   "source": [
    "llm = Ollama(\n",
    "    model=\"agent_pm\", callback_manager=CallbackManager([StreamingStdOutCallbackHandler()])\n",
    ")\n",
    "\n",
    "llm_json = Ollama(\n",
    "    model=\"agent_json_fixer\", callback_manager=CallbackManager([StreamingStdOutCallbackHandler()])\n",
    ")"
   ]
  },
  {
   "cell_type": "code",
   "execution_count": 14,
   "metadata": {},
   "outputs": [
    {
     "name": "stdout",
     "output_type": "stream",
     "text": [
      "The output should be a markdown code snippet formatted in the following schema, including the leading and trailing \"```json\" and \"```\":\n",
      "\n",
      "```json\n",
      "{\n",
      "\t\"timeline\": string  // The Project timeline with scope, as a bulletpoint list.\n",
      "\t\"deliverables\": string  // The Project deliverables with scope, as a bulletpoint list.\n",
      "\t\"team\": string  // The required Project team's skills and experience level, as a bulletpoint list.\n",
      "\t\"risks\": string  // The Project risks, as a bulletpoint list.\n",
      "\t\"budget\": string  // The Project budget for each task, as a bulletpoint list.\n",
      "\t\"metrics\": string  // The Project metrics, as a bulletpoint list.\n",
      "}\n",
      "```\n"
     ]
    }
   ],
   "source": [
    "timeline = ResponseSchema(\n",
    "        name=\"timeline\",\n",
    "        description=\"The Project timeline with scope, as a bulletpoint list.\",\n",
    "    )\n",
    "deliverables =  ResponseSchema(\n",
    "        name=\"deliverables\",\n",
    "        description=\"The Project deliverables with scope, as a bulletpoint list.\",\n",
    "    )\n",
    "team = ResponseSchema(\n",
    "        name=\"team\",\n",
    "        description=\"The required Project team's skills and experience level, as a bulletpoint list.\",\n",
    "    )\n",
    "risks = ResponseSchema(\n",
    "        name=\"risks\",\n",
    "        description=\"The Project risks, as a bulletpoint list.\",\n",
    "    )\n",
    "budget = ResponseSchema(\n",
    "        name=\"budget\",\n",
    "        description=\"The Project budget for each task, as a bulletpoint list.\",\n",
    "    )\n",
    "metrics = ResponseSchema(\n",
    "        name=\"metrics\",\n",
    "        description=\"The Project metrics, as a bulletpoint list.\",\n",
    "    )\n",
    "output_parser = StructuredOutputParser.from_response_schemas([\n",
    "    timeline,\n",
    "    deliverables,\n",
    "    team,\n",
    "    risks,\n",
    "    budget,\n",
    "    metrics,\n",
    "])\n",
    "\n",
    "response_format = output_parser.get_format_instructions()\n",
    "print(response_format)"
   ]
  },
  {
   "cell_type": "code",
   "execution_count": 15,
   "metadata": {},
   "outputs": [
    {
     "name": "stdout",
     "output_type": "stream",
     "text": [
      "```json\n",
      "{\n",
      "  \"timeline\": \"```\n",
      "\t1. Define project scope and objectives (2 weeks)\n",
      "\t2. Identify relevant market data sources (2 weeks)\n",
      "\t3. Collect and preprocess historical data (4 weeks)\n",
      "\t4. Develop machine learning model (8 weeks)\n",
      "\t5. Train and validate model (6 weeks)\n",
      "\t6. Implement model in production environment (4 weeks)\n",
      "\t7. Monitor and evaluate model performance (4 weeks)\n",
      "\t8. Report final results to stakeholders (2 weeks)\n",
      "```\n",
      "\"deliverables\": \"```\n",
      "\t1. Project scope and objectives document\n",
      "\t2. List of relevant market data sources\n",
      "\t3. Collected and preprocessed historical data\n",
      "\t4. Machine learning model\n",
      "\t5. Model training and validation reports\n",
      "\t6. Model implementation plan\n",
      "\t7. Performance monitoring and evaluation report\n",
      "\t8. Final project report\n",
      "```\n",
      "\"team\": \"```\n",
      "\t1. Project manager with experience in managing similar projects\n",
      "\t2. Data scientist with expertise in machine learning and data analysis\n",
      "\t3. Data engineer with experience in collecting and preprocessing large datasets\n",
      "\t4. Software engineer with experience in implementing machine learning models\n",
      "\t5. DevOps engineer with experience in deploying models to production environment\n",
      "```\n",
      "\"risks\": \"```\n",
      "\t1. Inaccurate or incomplete market data\n",
      "\t2. Difficulty in collecting and preprocessing historical data\n",
      "\t3. Model complexity leading to overfitting or underfitting\n",
      "\t4. Insufficient performance of the model in production environment\n",
      "\t5. Inability to deploy model to production environment\n",
      "```\n",
      "\"budget\": \"```\n",
      "\t1. Personnel costs (salaries and benefits) - $200,000\n",
      "\t2. Data collection and preprocessing costs - $100,000\n",
      "\t3. Machine learning software and infrastructure costs - $150,000\n",
      "\t4. Deployment and monitoring costs - $75,000\n",
      "\tTotal budget - $525,000\n",
      "```\n",
      "\"metrics\": \"```\n",
      "\t1. Accuracy of model forecasts compared to current forecasting process\n",
      "\t2. Time taken to collect and preprocess historical data\n",
      "\t3. Model complexity measured by number of parameters or layers\n",
      "\t4. Performance of the model in production environment\n",
      "\t5. Number of bugs or issues encountered during deployment\n",
      "```\n",
      "}\n",
      "```"
     ]
    },
    {
     "ename": "OutputParserException",
     "evalue": "Got invalid JSON object. Error: Invalid control character at: line 2 column 19 (char 20)",
     "output_type": "error",
     "traceback": [
      "\u001b[0;31m---------------------------------------------------------------------------\u001b[0m",
      "\u001b[0;31mJSONDecodeError\u001b[0m                           Traceback (most recent call last)",
      "File \u001b[0;32m~/.local/share/virtualenvs/llm_agent_team-CchbYHaz/lib/python3.11/site-packages/langchain/output_parsers/json.py:163\u001b[0m, in \u001b[0;36mparse_and_check_json_markdown\u001b[0;34m(text, expected_keys)\u001b[0m\n\u001b[1;32m    162\u001b[0m \u001b[39mtry\u001b[39;00m:\n\u001b[0;32m--> 163\u001b[0m     json_obj \u001b[39m=\u001b[39m parse_json_markdown(text)\n\u001b[1;32m    164\u001b[0m \u001b[39mexcept\u001b[39;00m json\u001b[39m.\u001b[39mJSONDecodeError \u001b[39mas\u001b[39;00m e:\n",
      "File \u001b[0;32m~/.local/share/virtualenvs/llm_agent_team-CchbYHaz/lib/python3.11/site-packages/langchain/output_parsers/json.py:145\u001b[0m, in \u001b[0;36mparse_json_markdown\u001b[0;34m(json_string, parser)\u001b[0m\n\u001b[1;32m    144\u001b[0m \u001b[39m# Parse the JSON string into a Python dictionary\u001b[39;00m\n\u001b[0;32m--> 145\u001b[0m parsed \u001b[39m=\u001b[39m parser(json_str)\n\u001b[1;32m    147\u001b[0m \u001b[39mreturn\u001b[39;00m parsed\n",
      "File \u001b[0;32m~/.pyenv/versions/3.11.4/lib/python3.11/json/__init__.py:346\u001b[0m, in \u001b[0;36mloads\u001b[0;34m(s, cls, object_hook, parse_float, parse_int, parse_constant, object_pairs_hook, **kw)\u001b[0m\n\u001b[1;32m    343\u001b[0m \u001b[39mif\u001b[39;00m (\u001b[39mcls\u001b[39m \u001b[39mis\u001b[39;00m \u001b[39mNone\u001b[39;00m \u001b[39mand\u001b[39;00m object_hook \u001b[39mis\u001b[39;00m \u001b[39mNone\u001b[39;00m \u001b[39mand\u001b[39;00m\n\u001b[1;32m    344\u001b[0m         parse_int \u001b[39mis\u001b[39;00m \u001b[39mNone\u001b[39;00m \u001b[39mand\u001b[39;00m parse_float \u001b[39mis\u001b[39;00m \u001b[39mNone\u001b[39;00m \u001b[39mand\u001b[39;00m\n\u001b[1;32m    345\u001b[0m         parse_constant \u001b[39mis\u001b[39;00m \u001b[39mNone\u001b[39;00m \u001b[39mand\u001b[39;00m object_pairs_hook \u001b[39mis\u001b[39;00m \u001b[39mNone\u001b[39;00m \u001b[39mand\u001b[39;00m \u001b[39mnot\u001b[39;00m kw):\n\u001b[0;32m--> 346\u001b[0m     \u001b[39mreturn\u001b[39;00m _default_decoder\u001b[39m.\u001b[39;49mdecode(s)\n\u001b[1;32m    347\u001b[0m \u001b[39mif\u001b[39;00m \u001b[39mcls\u001b[39m \u001b[39mis\u001b[39;00m \u001b[39mNone\u001b[39;00m:\n",
      "File \u001b[0;32m~/.pyenv/versions/3.11.4/lib/python3.11/json/decoder.py:337\u001b[0m, in \u001b[0;36mJSONDecoder.decode\u001b[0;34m(self, s, _w)\u001b[0m\n\u001b[1;32m    333\u001b[0m \u001b[39m\u001b[39m\u001b[39m\"\"\"Return the Python representation of ``s`` (a ``str`` instance\u001b[39;00m\n\u001b[1;32m    334\u001b[0m \u001b[39mcontaining a JSON document).\u001b[39;00m\n\u001b[1;32m    335\u001b[0m \n\u001b[1;32m    336\u001b[0m \u001b[39m\"\"\"\u001b[39;00m\n\u001b[0;32m--> 337\u001b[0m obj, end \u001b[39m=\u001b[39m \u001b[39mself\u001b[39;49m\u001b[39m.\u001b[39;49mraw_decode(s, idx\u001b[39m=\u001b[39;49m_w(s, \u001b[39m0\u001b[39;49m)\u001b[39m.\u001b[39;49mend())\n\u001b[1;32m    338\u001b[0m end \u001b[39m=\u001b[39m _w(s, end)\u001b[39m.\u001b[39mend()\n",
      "File \u001b[0;32m~/.pyenv/versions/3.11.4/lib/python3.11/json/decoder.py:353\u001b[0m, in \u001b[0;36mJSONDecoder.raw_decode\u001b[0;34m(self, s, idx)\u001b[0m\n\u001b[1;32m    352\u001b[0m \u001b[39mtry\u001b[39;00m:\n\u001b[0;32m--> 353\u001b[0m     obj, end \u001b[39m=\u001b[39m \u001b[39mself\u001b[39;49m\u001b[39m.\u001b[39;49mscan_once(s, idx)\n\u001b[1;32m    354\u001b[0m \u001b[39mexcept\u001b[39;00m \u001b[39mStopIteration\u001b[39;00m \u001b[39mas\u001b[39;00m err:\n",
      "\u001b[0;31mJSONDecodeError\u001b[0m: Invalid control character at: line 2 column 19 (char 20)",
      "\nDuring handling of the above exception, another exception occurred:\n",
      "\u001b[0;31mOutputParserException\u001b[0m                     Traceback (most recent call last)",
      "\u001b[1;32m/Users/jurgenstrydom/Projects/llm_agent_team/ollama_dev.ipynb Cell 4\u001b[0m line \u001b[0;36m2\n\u001b[1;32m     <a href='vscode-notebook-cell:/Users/jurgenstrydom/Projects/llm_agent_team/ollama_dev.ipynb#W5sZmlsZQ%3D%3D?line=24'>25</a>\u001b[0m _input \u001b[39m=\u001b[39m prompt\u001b[39m.\u001b[39mformat_prompt(brief\u001b[39m=\u001b[39mbrief)\n\u001b[1;32m     <a href='vscode-notebook-cell:/Users/jurgenstrydom/Projects/llm_agent_team/ollama_dev.ipynb#W5sZmlsZQ%3D%3D?line=25'>26</a>\u001b[0m output \u001b[39m=\u001b[39m llm(_input\u001b[39m.\u001b[39mto_string())\n\u001b[0;32m---> <a href='vscode-notebook-cell:/Users/jurgenstrydom/Projects/llm_agent_team/ollama_dev.ipynb#W5sZmlsZQ%3D%3D?line=26'>27</a>\u001b[0m output_parser\u001b[39m.\u001b[39;49mparse(output)\n",
      "File \u001b[0;32m~/.local/share/virtualenvs/llm_agent_team-CchbYHaz/lib/python3.11/site-packages/langchain/output_parsers/structured.py:96\u001b[0m, in \u001b[0;36mStructuredOutputParser.parse\u001b[0;34m(self, text)\u001b[0m\n\u001b[1;32m     94\u001b[0m \u001b[39mdef\u001b[39;00m \u001b[39mparse\u001b[39m(\u001b[39mself\u001b[39m, text: \u001b[39mstr\u001b[39m) \u001b[39m-\u001b[39m\u001b[39m>\u001b[39m Any:\n\u001b[1;32m     95\u001b[0m     expected_keys \u001b[39m=\u001b[39m [rs\u001b[39m.\u001b[39mname \u001b[39mfor\u001b[39;00m rs \u001b[39min\u001b[39;00m \u001b[39mself\u001b[39m\u001b[39m.\u001b[39mresponse_schemas]\n\u001b[0;32m---> 96\u001b[0m     \u001b[39mreturn\u001b[39;00m parse_and_check_json_markdown(text, expected_keys)\n",
      "File \u001b[0;32m~/.local/share/virtualenvs/llm_agent_team-CchbYHaz/lib/python3.11/site-packages/langchain/output_parsers/json.py:165\u001b[0m, in \u001b[0;36mparse_and_check_json_markdown\u001b[0;34m(text, expected_keys)\u001b[0m\n\u001b[1;32m    163\u001b[0m     json_obj \u001b[39m=\u001b[39m parse_json_markdown(text)\n\u001b[1;32m    164\u001b[0m \u001b[39mexcept\u001b[39;00m json\u001b[39m.\u001b[39mJSONDecodeError \u001b[39mas\u001b[39;00m e:\n\u001b[0;32m--> 165\u001b[0m     \u001b[39mraise\u001b[39;00m OutputParserException(\u001b[39mf\u001b[39m\u001b[39m\"\u001b[39m\u001b[39mGot invalid JSON object. Error: \u001b[39m\u001b[39m{\u001b[39;00me\u001b[39m}\u001b[39;00m\u001b[39m\"\u001b[39m)\n\u001b[1;32m    166\u001b[0m \u001b[39mfor\u001b[39;00m key \u001b[39min\u001b[39;00m expected_keys:\n\u001b[1;32m    167\u001b[0m     \u001b[39mif\u001b[39;00m key \u001b[39mnot\u001b[39;00m \u001b[39min\u001b[39;00m json_obj:\n",
      "\u001b[0;31mOutputParserException\u001b[0m: Got invalid JSON object. Error: Invalid control character at: line 2 column 19 (char 20)"
     ]
    }
   ],
   "source": [
    "template = \"\"\"\\\n",
    "You have been given the followin project brief. Plan the project tasks step by step providing timelines and resource skills required to deliver on each task.\n",
    "\n",
    "{format_instructions}\n",
    "\n",
    "Project Brief:\n",
    "{brief}\n",
    "\"\"\"\n",
    "\n",
    "brief = \"\"\"\\\n",
    "- The project is for a big multinational firm.\n",
    "- The firm employs about 10000 people.\n",
    "- The firm is grouped into a hierarchical structure, where each group specialises in a different industry or competency.\n",
    "- The firm is struggling to forecast its revenue accurately.\n",
    "- We are proposing to use machine learning an algorithms coupled with sourcing external market data to improve forecasting.\n",
    "- We aim to achieve a better accuracy than their current forecasting process.\n",
    "\"\"\"\n",
    "\n",
    "prompt = PromptTemplate(\n",
    "    template=template,\n",
    "    input_variables=[\"brief\"],\n",
    "    partial_variables={\"format_instructions\": response_format}\n",
    ")\n",
    "\n",
    "_input = prompt.format_prompt(brief=brief)\n",
    "output = llm(_input.to_string())\n",
    "output_parser.parse(output)"
   ]
  },
  {
   "cell_type": "code",
   "execution_count": 18,
   "metadata": {},
   "outputs": [
    {
     "name": "stdout",
     "output_type": "stream",
     "text": [
      "Here is the converted JSON text:\n",
      "```json\n",
      "{\n",
      "  \"timeline\": \"1. Define project scope and objectives (2 weeks) \\n2. Identify relevant market data sources (2 weeks) \\n3. Collect and preprocess historical data (4 weeks) \\n4. Develop machine learning model (8 weeks) \\n5. Train and validate model (6 weeks) \\n6. Implement model in production environment (4 weeks) \\n7. Monitor and evaluate model performance (4 weeks) \\n8. Report final results to stakeholders (2 weeks)\",\n",
      "  \"deliverables\": \"1. Project scope and objectives document \\n2. List of relevant market data sources \\n3. Collected and preprocessed historical data \\n4. Machine learning model \\n5. Model training and validation reports \\n6. Model implementation plan \\n7. Performance monitoring and evaluation report \\n8. Final project report\",\n",
      "  \"team\": \"1. Project manager with experience in managing similar projects \\n2. Data scientist with expertise in machine learning and data analysis \\n3. Data engineer with experience in collecting and preprocessing large datasets \\n4. Software engineer with experience in implementing machine learning models \\n5. DevOps engineer with experience in deploying models to production environment\",\n",
      "  \"risks\": \"1. Inaccurate or incomplete market data \\n2. Difficulty in collecting and preprocessing historical data \\n3. Model complexity leading to overfitting or underfitting \\n4. Insufficient performance of the model in production environment \\n5. Inability to deploy model to production environment\",\n",
      "  \"budget\": \"1. Personnel costs (salaries and benefits) - $200,000 \\n2. Data collection and preprocessing costs - $100,000 \\n3. Machine learning software and infrastructure costs - $150,000 \\n4. Deployment and monitoring costs - $75,000 \\nTotal budget - $525,000\",\n",
      "  \"metrics\": \"1. Accuracy of model forecasts compared to current forecasting process \\n2. Time taken to collect and preprocess historical data \\n3. Model complexity measured by number of parameters or layers \\n4. Performance of the model in production environment \\n5. Number of bugs or issues encountered during deployment\"\n",
      "}\n",
      "```"
     ]
    },
    {
     "data": {
      "text/plain": [
       "{'timeline': '1. Define project scope and objectives (2 weeks) \\n2. Identify relevant market data sources (2 weeks) \\n3. Collect and preprocess historical data (4 weeks) \\n4. Develop machine learning model (8 weeks) \\n5. Train and validate model (6 weeks) \\n6. Implement model in production environment (4 weeks) \\n7. Monitor and evaluate model performance (4 weeks) \\n8. Report final results to stakeholders (2 weeks)',\n",
       " 'deliverables': '1. Project scope and objectives document \\n2. List of relevant market data sources \\n3. Collected and preprocessed historical data \\n4. Machine learning model \\n5. Model training and validation reports \\n6. Model implementation plan \\n7. Performance monitoring and evaluation report \\n8. Final project report',\n",
       " 'team': '1. Project manager with experience in managing similar projects \\n2. Data scientist with expertise in machine learning and data analysis \\n3. Data engineer with experience in collecting and preprocessing large datasets \\n4. Software engineer with experience in implementing machine learning models \\n5. DevOps engineer with experience in deploying models to production environment',\n",
       " 'risks': '1. Inaccurate or incomplete market data \\n2. Difficulty in collecting and preprocessing historical data \\n3. Model complexity leading to overfitting or underfitting \\n4. Insufficient performance of the model in production environment \\n5. Inability to deploy model to production environment',\n",
       " 'budget': '1. Personnel costs (salaries and benefits) - $200,000 \\n2. Data collection and preprocessing costs - $100,000 \\n3. Machine learning software and infrastructure costs - $150,000 \\n4. Deployment and monitoring costs - $75,000 \\nTotal budget - $525,000',\n",
       " 'metrics': '1. Accuracy of model forecasts compared to current forecasting process \\n2. Time taken to collect and preprocess historical data \\n3. Model complexity measured by number of parameters or layers \\n4. Performance of the model in production environment \\n5. Number of bugs or issues encountered during deployment'}"
      ]
     },
     "execution_count": 18,
     "metadata": {},
     "output_type": "execute_result"
    }
   ],
   "source": [
    "json_template = \"\"\"\\\n",
    "You have been given the following text. Convert it to correct JSON. No other text or information should be provided.\n",
    "\n",
    "{format_instructions}\n",
    "\n",
    "Text to convert to JSON:\n",
    "{text_not_yet_json}\n",
    "\"\"\"\n",
    "\n",
    "prompt = PromptTemplate(\n",
    "    template=json_template,\n",
    "    input_variables=[\"text_not_yet_json\"],\n",
    "    partial_variables={\"format_instructions\": response_format}\n",
    ")\n",
    "\n",
    "_input = prompt.format_prompt(text_not_yet_json=output)\n",
    "json_output = llm_json(_input.to_string())\n",
    "output_parser.parse(json_output)"
   ]
  }
 ],
 "metadata": {
  "kernelspec": {
   "display_name": "llm_agent_team-CchbYHaz",
   "language": "python",
   "name": "python3"
  },
  "language_info": {
   "codemirror_mode": {
    "name": "ipython",
    "version": 3
   },
   "file_extension": ".py",
   "mimetype": "text/x-python",
   "name": "python",
   "nbconvert_exporter": "python",
   "pygments_lexer": "ipython3",
   "version": "3.11.4"
  }
 },
 "nbformat": 4,
 "nbformat_minor": 2
}
