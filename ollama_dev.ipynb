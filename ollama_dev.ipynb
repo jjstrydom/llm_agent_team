{
 "cells": [
  {
   "cell_type": "code",
   "execution_count": 1,
   "metadata": {},
   "outputs": [],
   "source": [
    "from langchain.llms import Ollama\n",
    "from langchain.callbacks.manager import CallbackManager\n",
    "from langchain.callbacks.streaming_stdout import StreamingStdOutCallbackHandler\n",
    "\n",
    "from langchain.prompts import PromptTemplate, ChatPromptTemplate, HumanMessagePromptTemplate\n",
    "from langchain.output_parsers import ResponseSchema, StructuredOutputParser\n"
   ]
  },
  {
   "cell_type": "code",
   "execution_count": 2,
   "metadata": {},
   "outputs": [],
   "source": [
    "llm = Ollama(\n",
    "    model=\"agent_pm\", callback_manager=CallbackManager([StreamingStdOutCallbackHandler()])\n",
    ")\n",
    "\n",
    "llm_json = Ollama(\n",
    "    model=\"agent_json_fixer\", callback_manager=CallbackManager([StreamingStdOutCallbackHandler()])\n",
    ")"
   ]
  },
  {
   "cell_type": "code",
   "execution_count": 7,
   "metadata": {},
   "outputs": [
    {
     "name": "stdout",
     "output_type": "stream",
     "text": [
      "The output should be a markdown code snippet formatted in the following schema, including the leading and trailing \"```json\" and \"```\":\n",
      "\n",
      "```json\n",
      "{\n",
      "\t\"tasks\": string  // The Project split into tasks, as a bulletpoint list.\n",
      "\t\"timeline\": string  // The time required for each task, as a bulletpoint list.\n",
      "\t\"deliverables\": string  // The Project deliverables with scope, as a bulletpoint list.\n",
      "\t\"team\": string  // The required Project team's skills and experience level, as a bulletpoint list.\n",
      "\t\"risks\": string  // The Project risks, as a bulletpoint list.\n",
      "\t\"budget\": string  // The budget for each task, as a bulletpoint list.\n",
      "\t\"metrics\": string  // The Project metrics, as a bulletpoint list.\n",
      "}\n",
      "```\n"
     ]
    }
   ],
   "source": [
    "tasks = ResponseSchema(\n",
    "        name=\"tasks\",\n",
    "        description=\"The Project split into tasks, as a bulletpoint list.\",\n",
    "    )\n",
    "timeline = ResponseSchema(\n",
    "        name=\"timeline\",\n",
    "        description=\"The time required for each task, as a bulletpoint list.\",\n",
    "    )\n",
    "deliverables =  ResponseSchema(\n",
    "        name=\"deliverables\",\n",
    "        description=\"The Project deliverables with scope, as a bulletpoint list.\",\n",
    "    )\n",
    "team = ResponseSchema(\n",
    "        name=\"team\",\n",
    "        description=\"The required Project team's skills and experience level, as a bulletpoint list.\",\n",
    "    )\n",
    "risks = ResponseSchema(\n",
    "        name=\"risks\",\n",
    "        description=\"The Project risks, as a bulletpoint list.\",\n",
    "    )\n",
    "budget = ResponseSchema(\n",
    "        name=\"budget\",\n",
    "        description=\"The budget for each task, as a bulletpoint list.\",\n",
    "    )\n",
    "metrics = ResponseSchema(\n",
    "        name=\"metrics\",\n",
    "        description=\"The Project metrics, as a bulletpoint list.\",\n",
    "    )\n",
    "output_parser = StructuredOutputParser.from_response_schemas([\n",
    "    tasks,\n",
    "    timeline,\n",
    "    deliverables,\n",
    "    team,\n",
    "    risks,\n",
    "    budget,\n",
    "    metrics,\n",
    "])\n",
    "\n",
    "response_format = output_parser.get_format_instructions()\n",
    "print(response_format)"
   ]
  },
  {
   "cell_type": "code",
   "execution_count": 8,
   "metadata": {},
   "outputs": [
    {
     "name": "stdout",
     "output_type": "stream",
     "text": [
      "```json\n",
      "{\n",
      "  \"tasks\": [\n",
      "    \"Research and identify relevant external market data sources\",\n",
      "    \"Develop machine learning algorithms to integrate with firm's internal data\",\n",
      "    \"Train and validate the model using historical data\",\n",
      "    \"Implement the model into the firm's forecasting process\",\n",
      "    \"Monitor and evaluate the performance of the new forecasting system\",\n",
      "    \"Provide training and support to the firm's employees on the new system\"\n",
      "  ],\n",
      "  \"timeline\": [\n",
      "    \"Research and identify relevant external market data sources: 2 weeks\",\n",
      "    \"Develop machine learning algorithms to integrate with firm's internal data: 4 weeks\",\n",
      "    \"Train and validate the model using historical data: 6 weeks\",\n",
      "    \"Implement the model into the firm's forecasting process: 3 weeks\",\n",
      "    \"Monitor and evaluate the performance of the new forecasting system: ongoing\",\n",
      "    \"Provide training and support to the firm's employees on the new system: 2 weeks\"\n",
      "  ],\n",
      "  \"deliverables\": [\n",
      "    \"List of external market data sources identified\",\n",
      "    \"Machine learning algorithms developed and tested\",\n",
      "    \"Trained and validated model\",\n",
      "    \"Implemented forecasting process with improved accuracy\",\n",
      "    \"Ongoing monitoring and evaluation report\",\n",
      "    \"Training materials and support documentation\"\n",
      "  ],\n",
      "  \"team\": [\n",
      "    \"Project Manager with experience in managing complex projects\",\n",
      "    \"Data Scientist with expertise in machine learning and data analysis\",\n",
      "    \"Business Analyst with knowledge of the firm's internal processes\",\n",
      "    \"Training Specialist with experience in providing employee support\",\n",
      "    \"Marketing Specialist to identify relevant external market data sources\"\n",
      "  ],\n",
      "  \"risks\": [\n",
      "    \"Insufficient historical data for model training and validation\",\n",
      "    \"Difficulty in integrating machine learning algorithms with the firm's existing systems\",\n",
      "    \"Resistance to change from the firm's employees\",\n",
      "    \"Inadequate monitoring and evaluation of the new forecasting system\"\n",
      "  ],\n",
      "  \"budget\": [\n",
      "    \"Cost of external market data sources: $5000\",\n",
      "    \"Cost of machine learning algorithms development and testing: $10000\",\n",
      "    \"Cost of training and support materials: $2000\",\n",
      "    \"Ongoing monitoring and evaluation costs: $3000 per month\"\n",
      "  ],\n",
      "  \"metrics\": [\n",
      "    \"Improved accuracy of forecasting compared to current process\",\n",
      "    \"Increased efficiency in data analysis and decision-making\",\n",
      "    \"Reduced time and resources spent on manual forecasting\",\n",
      "    \"Higher level of employee satisfaction with new system\"\n",
      "  ]\n",
      "}\n",
      "```"
     ]
    }
   ],
   "source": [
    "template = \"\"\"\\\n",
    "You have been given the followin project brief. Plan the project tasks step by step providing timelines and resource skills required to deliver on each task.\n",
    "\n",
    "{format_instructions}\n",
    "\n",
    "Project Brief:\n",
    "{brief}\n",
    "\"\"\"\n",
    "\n",
    "brief = \"\"\"\\\n",
    "- The project is for a big multinational firm.\n",
    "- The firm employs about 10000 people.\n",
    "- The firm is grouped into a hierarchical structure, where each group specialises in a different industry or competency.\n",
    "- The firm is struggling to forecast its revenue accurately.\n",
    "- We are proposing to use machine learning an algorithms coupled with sourcing external market data to improve forecasting.\n",
    "- We aim to achieve a better accuracy than their current forecasting process.\n",
    "\"\"\"\n",
    "\n",
    "prompt = PromptTemplate(\n",
    "    template=template,\n",
    "    input_variables=[\"brief\"],\n",
    "    partial_variables={\"format_instructions\": response_format}\n",
    ")\n",
    "\n",
    "_input = prompt.format_prompt(brief=brief)\n",
    "output_plan = llm(_input.to_string())"
   ]
  },
  {
   "cell_type": "code",
   "execution_count": 9,
   "metadata": {},
   "outputs": [
    {
     "name": "stdout",
     "output_type": "stream",
     "text": [
      "{'tasks': ['Research and identify relevant external market data sources', \"Develop machine learning algorithms to integrate with firm's internal data\", 'Train and validate the model using historical data', \"Implement the model into the firm's forecasting process\", 'Monitor and evaluate the performance of the new forecasting system', \"Provide training and support to the firm's employees on the new system\"], 'timeline': ['Research and identify relevant external market data sources: 2 weeks', \"Develop machine learning algorithms to integrate with firm's internal data: 4 weeks\", 'Train and validate the model using historical data: 6 weeks', \"Implement the model into the firm's forecasting process: 3 weeks\", 'Monitor and evaluate the performance of the new forecasting system: ongoing', \"Provide training and support to the firm's employees on the new system: 2 weeks\"], 'deliverables': ['List of external market data sources identified', 'Machine learning algorithms developed and tested', 'Trained and validated model', 'Implemented forecasting process with improved accuracy', 'Ongoing monitoring and evaluation report', 'Training materials and support documentation'], 'team': ['Project Manager with experience in managing complex projects', 'Data Scientist with expertise in machine learning and data analysis', \"Business Analyst with knowledge of the firm's internal processes\", 'Training Specialist with experience in providing employee support', 'Marketing Specialist to identify relevant external market data sources'], 'risks': ['Insufficient historical data for model training and validation', \"Difficulty in integrating machine learning algorithms with the firm's existing systems\", \"Resistance to change from the firm's employees\", 'Inadequate monitoring and evaluation of the new forecasting system'], 'budget': ['Cost of external market data sources: $5000', 'Cost of machine learning algorithms development and testing: $10000', 'Cost of training and support materials: $2000', 'Ongoing monitoring and evaluation costs: $3000 per month'], 'metrics': ['Improved accuracy of forecasting compared to current process', 'Increased efficiency in data analysis and decision-making', 'Reduced time and resources spent on manual forecasting', 'Higher level of employee satisfaction with new system']}\n"
     ]
    }
   ],
   "source": [
    "try:\n",
    "    json_string = output_parser.parse(output_plan)\n",
    "except Exception as e:\n",
    "    print(\"parsing failed, falling back to json formatter\")\n",
    "    json_template = \"\"\"\\\n",
    "    You have been given the following text. Convert it to correct JSON. If text is duplicated keep the most detailed version. No other text or information should be provided.\n",
    "\n",
    "    {format_instructions}\n",
    "\n",
    "    Text to convert to JSON:\n",
    "    {text_not_yet_json}\n",
    "    \"\"\"\n",
    "\n",
    "    prompt = PromptTemplate(\n",
    "        template=json_template,\n",
    "        input_variables=[\"text_not_yet_json\"],\n",
    "        partial_variables={\"format_instructions\": response_format}\n",
    "    )\n",
    "\n",
    "    _input = prompt.format_prompt(text_not_yet_json=output_plan)\n",
    "    json_output = llm_json(_input.to_string())\n",
    "    json_string = output_parser.parse(json_output)\n",
    "print(json_string)"
   ]
  }
 ],
 "metadata": {
  "kernelspec": {
   "display_name": "llm_agent_team-CchbYHaz",
   "language": "python",
   "name": "python3"
  },
  "language_info": {
   "codemirror_mode": {
    "name": "ipython",
    "version": 3
   },
   "file_extension": ".py",
   "mimetype": "text/x-python",
   "name": "python",
   "nbconvert_exporter": "python",
   "pygments_lexer": "ipython3",
   "version": "3.11.4"
  }
 },
 "nbformat": 4,
 "nbformat_minor": 2
}
