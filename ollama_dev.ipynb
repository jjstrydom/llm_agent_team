{
 "cells": [
  {
   "cell_type": "code",
   "execution_count": 16,
   "metadata": {},
   "outputs": [
    {
     "name": "stdout",
     "output_type": "stream",
     "text": [
      "The autoreload extension is already loaded. To reload it, use:\n",
      "  %reload_ext autoreload\n"
     ]
    }
   ],
   "source": [
    "%load_ext autoreload\n",
    "%autoreload 2\n",
    "import pandas as pd\n",
    "import re\n",
    "import markdown_to_json\n",
    "from llm_output_parser import extract_tasks_content\n",
    "from response_components import ResponseComponent, tasks, timeline, deliverables, team, risks, budget, metrics, task_breakdown"
   ]
  },
  {
   "cell_type": "code",
   "execution_count": 8,
   "metadata": {},
   "outputs": [],
   "source": [
    "response_components = [\n",
    "            tasks,\n",
    "            timeline,\n",
    "            deliverables,\n",
    "            team,\n",
    "            risks,\n",
    "            budget,\n",
    "            metrics,\n",
    "        ]"
   ]
  },
  {
   "cell_type": "code",
   "execution_count": 12,
   "metadata": {},
   "outputs": [
    {
     "data": {
      "text/html": [
       "<div>\n",
       "<style scoped>\n",
       "    .dataframe tbody tr th:only-of-type {\n",
       "        vertical-align: middle;\n",
       "    }\n",
       "\n",
       "    .dataframe tbody tr th {\n",
       "        vertical-align: top;\n",
       "    }\n",
       "\n",
       "    .dataframe thead th {\n",
       "        text-align: right;\n",
       "    }\n",
       "</style>\n",
       "<table border=\"1\" class=\"dataframe\">\n",
       "  <thead>\n",
       "    <tr style=\"text-align: right;\">\n",
       "      <th></th>\n",
       "      <th>text</th>\n",
       "    </tr>\n",
       "  </thead>\n",
       "  <tbody>\n",
       "    <tr>\n",
       "      <th>19</th>\n",
       "      <td>Task List:\\n\\n# Project Tasks\\n\\n1. Define pro...</td>\n",
       "    </tr>\n",
       "    <tr>\n",
       "      <th>20</th>\n",
       "      <td>## Tasks:\\n\\n1. Research and identify the most...</td>\n",
       "    </tr>\n",
       "    <tr>\n",
       "      <th>21</th>\n",
       "      <td>### Tasks:\\n\\n1. Analyze the current forecasti...</td>\n",
       "    </tr>\n",
       "    <tr>\n",
       "      <th>22</th>\n",
       "      <td>## Tasks:\\n\\n1. Define the problem statement a...</td>\n",
       "    </tr>\n",
       "    <tr>\n",
       "      <th>23</th>\n",
       "      <td>## Tasks:\\n\\n1. Analyze the current forecastin...</td>\n",
       "    </tr>\n",
       "  </tbody>\n",
       "</table>\n",
       "</div>"
      ],
      "text/plain": [
       "                                                 text\n",
       "19  Task List:\\n\\n# Project Tasks\\n\\n1. Define pro...\n",
       "20  ## Tasks:\\n\\n1. Research and identify the most...\n",
       "21  ### Tasks:\\n\\n1. Analyze the current forecasti...\n",
       "22  ## Tasks:\\n\\n1. Define the problem statement a...\n",
       "23  ## Tasks:\\n\\n1. Analyze the current forecastin..."
      ]
     },
     "execution_count": 12,
     "metadata": {},
     "output_type": "execute_result"
    }
   ],
   "source": [
    "df = pd.read_parquet('project_plan.parquet')\n",
    "df.tail()"
   ]
  },
  {
   "cell_type": "code",
   "execution_count": 13,
   "metadata": {},
   "outputs": [
    {
     "data": {
      "text/plain": [
       "\"## Tasks:\\n\\n1. Define the problem statement and identify the key metrics that will be used to measure the success of the project.\\n2. Collect and cleanse historical data on revenue for the competency in question.\\n3. Explore and evaluate different machine learning algorithms and techniques that can be used for forecasting.\\n4. Develop a proof-of-concept model using the selected algorithm/s to demonstrate its potential accuracy.\\n5. Integrate the model into the firm's existing forecasting process.\\n6. Monitor and evaluate the performance of the model over time, making adjustments as necessary.\\n7. Present findings and recommendations to stakeholders, including senior management and other relevant groups within the firm.\\n\\n## Timeline:\\n\\n* Week 1-2: Define problem statement and identify key metrics (4 days)\\n* Week 3-4: Collect and cleanse historical data (8 days)\\n* Week 5-6: Explore and evaluate machine learning algorithms/techniques (10 days)\\n* Week 7-8: Develop proof-of-concept model (12 days)\\n* Week 9-10: Integrate model into existing forecasting process (14 days)\\n* Week 11-12: Monitor and evaluate performance of model (14 days)\\n* Week 13-14: Present findings and recommendations to stakeholders (14 days)\\n\\n## Deliverables:\\n\\n* A report outlining the problem statement, key metrics, and proposed solution.\\n* A dataset of historical revenue data for the competency in question.\\n* A detailed description of the selected machine learning algorithm/s and their implementation.\\n* A proof-of-concept model demonstrating the potential accuracy of the proposed approach.\\n* An integration plan for incorporating the model into the firm's existing forecasting process.\\n* A presentation summarizing the findings and recommendations to stakeholders.\\n\\n## Team:\\n\\n* Project Manager: experienced project planner with strong organizational skills.\\n* Data Scientist: expert in machine learning and data analysis, with experience in working with large datasets.\\n* Software Developer: skilled in implementing machine learning algorithms and integrating them into existing systems.\\n* Business Analyst: knowledgeable in the firm's business operations and able to communicate effectively with stakeholders.\\n\\n## Risks:\\n\\n* Data quality issues: historical data may contain errors or inconsistencies that could impact the accuracy of the forecasting model.\\n* Algorithm selection challenge: finding the most appropriate algorithm/s for the problem at hand, given the complexity of the data and the specific requirements of the project.\\n* Integration challenges: incorporating the new forecasting model into the firm's existing process may require significant changes to existing systems and processes.\\n* Resistance to change: some stakeholders may be resistant to adopting a new forecasting approach, potentially impacting the success of the project.\\n\\n## Budget:\\n\\n* Data collection and cleansing: $10,000\\n* Machine learning algorithm development: $20,000\\n* Software development and integration: $30,000\\n* Business analysis and stakeholder communication: $15,000\\n* Total budget: $75,000\\n\\n## Metrics:\\n\\n* Accuracy of the forecasting model compared to the current process.\\n* Time savings achieved through automation of the forecasting process.\\n* Increase in revenue accuracy due to improved forecasting.\\n* Stakeholder satisfaction with the new forecasting approach.\""
      ]
     },
     "execution_count": 13,
     "metadata": {},
     "output_type": "execute_result"
    }
   ],
   "source": [
    "df.loc[0].text"
   ]
  },
  {
   "cell_type": "code",
   "execution_count": 19,
   "metadata": {},
   "outputs": [],
   "source": [
    "output_plan_dict = markdown_to_json.dictify(df.loc[22].text)\n",
    "project_plan = extract_tasks_content(output_plan_dict, response_components)"
   ]
  },
  {
   "cell_type": "code",
   "execution_count": 20,
   "metadata": {},
   "outputs": [
    {
     "data": {
      "text/plain": [
       "{'tasks': ['1. Define the problem statement and identify the key variables affecting revenue forecasting in the target competency.',\n",
       "  '1.1. Research and gather data on historical revenue patterns, seasonality, trends, and external market factors.',\n",
       "  '1.2. Analyze the data using statistical methods and machine learning algorithms to identify patterns and relationships.',\n",
       "  '2. Develop a machine learning model for revenue forecasting.',\n",
       "  '2.1. Design and train the model using the analyzed data, with a focus on improving accuracy compared to the current forecasting process.',\n",
       "  '2.2. Validate the model using historical data and evaluate its performance against benchmarks.',\n",
       "  \"3. Integrate the machine learning model into the firm's existing forecasting system.\",\n",
       "  '3.1. Work with the IT team to integrate the model into the existing database and workflows.',\n",
       "  '3.2. Ensure seamless data flow and accurate feeding of data into the model.',\n",
       "  '4. Test and refine the model based on performance feedback.',\n",
       "  \"4.1. Continuously monitor the model's accuracy and make adjustments as needed.\",\n",
       "  \"4.2. Refine the model's parameters to improve its predictive power over time.\",\n",
       "  '5. Train stakeholders on the new forecasting process and provide support during the transition period.',\n",
       "  '5.1. Conduct training sessions for key stakeholders, including data analysts, managers, and executives.',\n",
       "  '5.2. Offer ongoing support to ensure a smooth transition and address any questions or concerns.',\n",
       "  \"6. Evaluate the project's success and measure its impact on the firm's revenue forecasting process.\",\n",
       "  '6.1. Track key performance indicators (KPIs) such as accuracy improvement, response time reduction, and user satisfaction.',\n",
       "  \"6.2. Prepare a comprehensive report detailing the project's successes and areas for future improvement.\"]}"
      ]
     },
     "execution_count": 20,
     "metadata": {},
     "output_type": "execute_result"
    }
   ],
   "source": [
    "project_plan"
   ]
  }
 ],
 "metadata": {
  "kernelspec": {
   "display_name": "llm_agent_team-CchbYHaz",
   "language": "python",
   "name": "python3"
  },
  "language_info": {
   "codemirror_mode": {
    "name": "ipython",
    "version": 3
   },
   "file_extension": ".py",
   "mimetype": "text/x-python",
   "name": "python",
   "nbconvert_exporter": "python",
   "pygments_lexer": "ipython3",
   "version": "3.11.4"
  }
 },
 "nbformat": 4,
 "nbformat_minor": 2
}
